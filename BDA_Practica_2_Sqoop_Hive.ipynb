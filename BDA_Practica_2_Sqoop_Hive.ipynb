{
  "nbformat": 4,
  "nbformat_minor": 0,
  "metadata": {
    "colab": {
      "name": "BDA_Practica_2_Sqoop_Hive",
      "provenance": [],
      "collapsed_sections": []
    },
    "kernelspec": {
      "name": "python3",
      "display_name": "Python 3"
    },
    "language_info": {
      "name": "python"
    }
  },
  "cells": [
    {
      "cell_type": "markdown",
      "source": [
        "# Big Data Aplicado - Práctica 2 - Hadoop+Sqoop+Hive\n",
        "\n",
        "Con Sqoop, a partir de una base de datos MySQL, se cargan unas tablas en HDFS y su salida la cargarmos en Hive con Spark, para finalmente transformarse dentro de Hive."
      ],
      "metadata": {
        "id": "BtaqVRgWHpl5"
      }
    },
    {
      "cell_type": "markdown",
      "metadata": {
        "id": "Yu8Gc_0PJxqj"
      },
      "source": [
        "## Instalación de herramientas"
      ]
    },
    {
      "cell_type": "markdown",
      "metadata": {
        "id": "grZv2iS7Jxqj"
      },
      "source": [
        "### Instalación de Hadoop"
      ]
    },
    {
      "cell_type": "markdown",
      "metadata": {
        "id": "TT47p0BgeQII"
      },
      "source": [
        "Descargamos Hadoop, descomprimimos y movemos a la carpeta de programas."
      ]
    },
    {
      "cell_type": "code",
      "metadata": {
        "id": "MmQb-EBbyS4o"
      },
      "source": [
        "%%bash\n",
        "wget -q https://downloads.apache.org/hadoop/common/hadoop-3.3.1/hadoop-3.3.1.tar.gz\n",
        "tar -xzf hadoop-3.3.1.tar.gz\n",
        "mv hadoop-3.3.1/ /usr/local/"
      ],
      "execution_count": 1,
      "outputs": []
    },
    {
      "cell_type": "markdown",
      "metadata": {
        "id": "bQSHgHl-yg0o"
      },
      "source": [
        "Creamos las variables de entorno necesarias."
      ]
    },
    {
      "cell_type": "code",
      "metadata": {
        "id": "MzexlzsKyc4n"
      },
      "source": [
        "import os\n",
        "os.environ[\"JAVA_HOME\"] = \"/usr/lib/jvm/java-11-openjdk-amd64/\"\n",
        "os.environ[\"PATH\"] = os.environ[\"PATH\"] + \":\" + \"/usr/local/hadoop-3.3.1/bin\""
      ],
      "execution_count": 8,
      "outputs": []
    },
    {
      "cell_type": "markdown",
      "metadata": {
        "id": "d8ruKNtynh4E"
      },
      "source": [
        "### Instalación de Sqoop"
      ]
    },
    {
      "cell_type": "markdown",
      "source": [
        "Descargamos Sqoop, descomprimimos y movemos a la carpeta de programas.\n"
      ],
      "metadata": {
        "id": "LkNeStFU-Ch2"
      }
    },
    {
      "cell_type": "code",
      "metadata": {
        "id": "s5e7Dvzjnkqs"
      },
      "source": [
        "%%bash \n",
        "wget -q http://archive.apache.org/dist/sqoop/1.4.7/sqoop-1.4.7.bin__hadoop-2.6.0.tar.gz\n",
        "tar -xf sqoop-1.4.7.bin__hadoop-2.6.0.tar.gz\n",
        "mv sqoop-1.4.7.bin__hadoop-2.6.0 /usr/local/sqoop "
      ],
      "execution_count": 3,
      "outputs": []
    },
    {
      "cell_type": "markdown",
      "source": [
        "Descargamos librerías necesarias, descomprimimos y movemos a la carpeta de las librerías de Sqoop."
      ],
      "metadata": {
        "id": "syQdbSJB-H5k"
      }
    },
    {
      "cell_type": "code",
      "source": [
        "%%bash\n",
        "wget -q https://dlcdn.apache.org//commons/lang/binaries/commons-lang-2.6-bin.tar.gz\n",
        "tar -xf commons-lang-2.6-bin.tar.gz\n",
        "mv /content/commons-lang-2.6/commons-lang-2.6.jar /usr/local/sqoop/lib"
      ],
      "metadata": {
        "id": "678sQKR89Rkn"
      },
      "execution_count": 4,
      "outputs": []
    },
    {
      "cell_type": "markdown",
      "source": [
        "Creamos las variables de entorno necesarias."
      ],
      "metadata": {
        "id": "MtC2UwgO-KWn"
      }
    },
    {
      "cell_type": "code",
      "metadata": {
        "id": "iVp0G0Rhn5oT"
      },
      "source": [
        "import os\n",
        "os.environ[\"HADOOP_HOME\"] = \"/usr/local/hadoop-3.3.1\"\n",
        "os.environ[\"HADOOP_COMMON_HOME\"] = os.environ[\"HADOOP_HOME\"] \n",
        "os.environ[\"HADOOP_MAPRED_HOME\"] = os.environ[\"HADOOP_HOME\"]\n",
        "os.environ[\"SQOOP_HOME\"] = \"/usr/local/sqoop\"\n",
        "os.environ[\"PATH\"] = os.environ[\"PATH\"] + \":\" + \"/usr/local/sqoop/bin\" \n",
        "os.environ[\"HADOOP_COMMON_LIB_NATIVE_DIR\"] = os.environ[\"HADOOP_HOME\"] + \"/lib/native\"\n",
        "os.environ[\"CLASSPATH\"] = \"/content/tmp\"\n",
        "# variables de partes no instaladas pero que sqoop busca (eliminar warnings)\n",
        "os.environ[\"HBASE_HOME\"] = os.environ[\"HADOOP_HOME\"]\n",
        "os.environ[\"HCAT_HOME\"] = os.environ[\"HADOOP_HOME\"]\n",
        "os.environ[\"ACCUMULO_HOME\"] = os.environ[\"HADOOP_HOME\"]\n",
        "os.environ[\"ZOOKEEPER_HOME\"] = os.environ[\"HADOOP_HOME\"]"
      ],
      "execution_count": 9,
      "outputs": []
    },
    {
      "cell_type": "markdown",
      "source": [
        "Comprobamos que se ha instalado correctamente Hadoop y Sqoop viendo la versión de Sqoop."
      ],
      "metadata": {
        "id": "J05rQpnd-M6-"
      }
    },
    {
      "cell_type": "code",
      "metadata": {
        "colab": {
          "base_uri": "https://localhost:8080/"
        },
        "id": "x0eS_YamoVM9",
        "outputId": "c5714d7c-addf-41b1-d764-2de8e968393d"
      },
      "source": [
        "!sqoop-version"
      ],
      "execution_count": 10,
      "outputs": [
        {
          "output_type": "stream",
          "name": "stdout",
          "text": [
            "2022-05-05 16:47:13,954 INFO sqoop.Sqoop: Running Sqoop version: 1.4.7\n",
            "Sqoop 1.4.7\n",
            "git commit id 2328971411f57f0cb683dfb79d19d4d19d185dd8\n",
            "Compiled by maugli on Thu Dec 21 15:59:58 STD 2017\n"
          ]
        }
      ]
    },
    {
      "cell_type": "markdown",
      "source": [
        "Para completar la instalación, es necesario que tengamos la librería de conexión java para que Sqoop vea la base de datos MySQL de la que descargaremos los datos.<br>\n",
        "Descargamos la librería, descomprimimos y copiamos en la carpeta de librerías de Sqoop."
      ],
      "metadata": {
        "id": "Mpx_wHMSEfNx"
      }
    },
    {
      "cell_type": "code",
      "metadata": {
        "id": "Ga_AzngQxgTQ"
      },
      "source": [
        "%%bash\n",
        "wget -q http://ftp.ntu.edu.tw/MySQL/Downloads/Connector-J/mysql-connector-java-5.1.49.tar.gz\n",
        "tar -zxf mysql-connector-java-5.1.49.tar.gz\n",
        "cd mysql-connector-java-5.1.49\n",
        "cp mysql-connector-java-5.1.49-bin.jar /usr/local/sqoop/lib"
      ],
      "execution_count": 7,
      "outputs": []
    },
    {
      "cell_type": "markdown",
      "source": [
        "### Instalación de Hive"
      ],
      "metadata": {
        "id": "c9-AXCcAaoSa"
      }
    },
    {
      "cell_type": "markdown",
      "source": [
        "MATERIAL EXTRA PROPIO<br>\n",
        "En los repositorios de PIP se encuentra disponible la versión 3.2.1 o superior en caso de que cambie, que al instalarse desde dicho repositorio hace que se activen e instalen sus dependencias, por lo que no es necesario hacer la descarga desde *apache.org/spark*. Tampoco es necesario incluir las rutas especificas a los directorios de Spark.\n",
        "\n",
        "Instalamos con `pip` la librería de Python."
      ],
      "metadata": {
        "id": "P6RXRk8qDVQp"
      }
    },
    {
      "cell_type": "code",
      "source": [
        "!pip install pyspark"
      ],
      "metadata": {
        "colab": {
          "base_uri": "https://localhost:8080/"
        },
        "id": "SLBORZch40iy",
        "outputId": "e401f32c-65c5-47c1-c9ba-df38c72537e1"
      },
      "execution_count": 8,
      "outputs": [
        {
          "output_type": "stream",
          "name": "stdout",
          "text": [
            "Collecting pyspark\n",
            "  Downloading pyspark-3.2.1.tar.gz (281.4 MB)\n",
            "\u001b[K     |████████████████████████████████| 281.4 MB 36 kB/s \n",
            "\u001b[?25hCollecting py4j==0.10.9.3\n",
            "  Downloading py4j-0.10.9.3-py2.py3-none-any.whl (198 kB)\n",
            "\u001b[K     |████████████████████████████████| 198 kB 52.0 MB/s \n",
            "\u001b[?25hBuilding wheels for collected packages: pyspark\n",
            "  Building wheel for pyspark (setup.py) ... \u001b[?25l\u001b[?25hdone\n",
            "  Created wheel for pyspark: filename=pyspark-3.2.1-py2.py3-none-any.whl size=281853642 sha256=10a4182593779d69df5c403d556d533fc7dc2f5d51a93c5da49271e9142dfc22\n",
            "  Stored in directory: /root/.cache/pip/wheels/9f/f5/07/7cd8017084dce4e93e84e92efd1e1d5334db05f2e83bcef74f\n",
            "Successfully built pyspark\n",
            "Installing collected packages: py4j, pyspark\n",
            "Successfully installed py4j-0.10.9.3 pyspark-3.2.1\n"
          ]
        }
      ]
    },
    {
      "cell_type": "markdown",
      "metadata": {
        "id": "yuTgfpnypS2j"
      },
      "source": [
        "## Ejecución de Sqoop"
      ]
    },
    {
      "cell_type": "markdown",
      "source": [
        "Sqoop va a conectarse a una base de datos en db4free.net que contiene los datos de una empresa con varias tiendas en la que vende productos electrónicos. A parte de las tiendas y los productos, se tiene almacenado una agrupación de la familia a la que pertenece el producto y también el stock que tiene cada tienda de cada uno de los productos.<br>\n",
        "Las 4 tablas se encuentran relacionadas entre sí por claves foráneas.<br>"
      ],
      "metadata": {
        "id": "Pwlgdk2Sa20m"
      }
    },
    {
      "cell_type": "markdown",
      "source": [
        "Gráficamente este es el esquema de la BBDD:\n",
        "![image.png](data:image/png;base64,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)"
      ],
      "metadata": {
        "id": "y-AoN7q8-_7W"
      }
    },
    {
      "cell_type": "markdown",
      "source": [
        "MATERIAL EXTRA PROPIO<br>\n",
        "Se utiliza la opción `import-all-tables` en lugar de ir descargando una a una las tablas, y así hacer un todo en uno."
      ],
      "metadata": {
        "id": "SapAXG_oF0Ne"
      }
    },
    {
      "cell_type": "code",
      "source": [
        "!sqoop import-all-tables \\\n",
        "   -Dmapreduce.job.user.classpath.first=true \\\n",
        "   --connect jdbc:mysql://db4free.net:3306/datos_abo_2_hive \\\n",
        "   --username abenoga --password \"bda_pr_22\" \\\n",
        "   --fields-terminated-by ';' \\\n",
        "   --m 1 \\\n",
        "   --bindir /usr/local/hadoop-3.3.1/etc/hadoop "
      ],
      "metadata": {
        "id": "dxsj1cr2VvfZ",
        "colab": {
          "base_uri": "https://localhost:8080/"
        },
        "outputId": "c96ec952-bdd2-405a-87d4-431df69267b9"
      },
      "execution_count": 11,
      "outputs": [
        {
          "output_type": "stream",
          "name": "stdout",
          "text": [
            "2022-05-05 16:47:28,352 INFO sqoop.Sqoop: Running Sqoop version: 1.4.7\n",
            "2022-05-05 16:47:28,414 WARN tool.BaseSqoopTool: Setting your password on the command-line is insecure. Consider using -P instead.\n",
            "2022-05-05 16:47:28,605 INFO manager.MySQLManager: Preparing to use a MySQL streaming resultset.\n",
            "Thu May 05 16:47:34 UTC 2022 WARN: Establishing SSL connection without server's identity verification is not recommended. According to MySQL 5.5.45+, 5.6.26+ and 5.7.6+ requirements SSL connection must be established by default if explicit option isn't set. For compliance with existing applications not using SSL the verifyServerCertificate property is set to 'false'. You need either to explicitly disable SSL by setting useSSL=false, or set useSSL=true and provide truststore for server certificate verification.\n",
            "2022-05-05 16:47:37,737 INFO tool.CodeGenTool: Beginning code generation\n",
            "2022-05-05 16:47:37,760 INFO manager.SqlManager: Executing SQL statement: SELECT t.* FROM `familia` AS t LIMIT 1\n",
            "2022-05-05 16:47:39,363 INFO manager.SqlManager: Executing SQL statement: SELECT t.* FROM `familia` AS t LIMIT 1\n",
            "2022-05-05 16:47:40,408 INFO orm.CompilationManager: HADOOP_MAPRED_HOME is /usr/local/hadoop-3.3.1\n",
            "Note: /usr/local/hadoop-3.3.1/etc/hadoop/familia.java uses or overrides a deprecated API.\n",
            "Note: Recompile with -Xlint:deprecation for details.\n",
            "2022-05-05 16:47:43,433 INFO orm.CompilationManager: Writing jar file: /usr/local/hadoop-3.3.1/etc/hadoop/familia.jar\n",
            "2022-05-05 16:47:43,451 WARN manager.MySQLManager: It looks like you are importing from mysql.\n",
            "2022-05-05 16:47:43,451 WARN manager.MySQLManager: This transfer can be faster! Use the --direct\n",
            "2022-05-05 16:47:43,451 WARN manager.MySQLManager: option to exercise a MySQL-specific fast path.\n",
            "2022-05-05 16:47:43,451 INFO manager.MySQLManager: Setting zero DATETIME behavior to convertToNull (mysql)\n",
            "2022-05-05 16:47:44,496 INFO mapreduce.ImportJobBase: Beginning import of familia\n",
            "2022-05-05 16:47:44,497 INFO Configuration.deprecation: mapred.job.tracker is deprecated. Instead, use mapreduce.jobtracker.address\n",
            "2022-05-05 16:47:44,711 WARN util.NativeCodeLoader: Unable to load native-hadoop library for your platform... using builtin-java classes where applicable\n",
            "2022-05-05 16:47:44,767 INFO Configuration.deprecation: mapred.jar is deprecated. Instead, use mapreduce.job.jar\n",
            "2022-05-05 16:47:45,730 INFO Configuration.deprecation: mapred.map.tasks is deprecated. Instead, use mapreduce.job.maps\n",
            "2022-05-05 16:47:45,868 INFO impl.MetricsConfig: Loaded properties from hadoop-metrics2.properties\n",
            "2022-05-05 16:47:45,983 INFO impl.MetricsSystemImpl: Scheduled Metric snapshot period at 10 second(s).\n",
            "2022-05-05 16:47:45,983 INFO impl.MetricsSystemImpl: JobTracker metrics system started\n",
            "Thu May 05 16:47:46 UTC 2022 WARN: Establishing SSL connection without server's identity verification is not recommended. According to MySQL 5.5.45+, 5.6.26+ and 5.7.6+ requirements SSL connection must be established by default if explicit option isn't set. For compliance with existing applications not using SSL the verifyServerCertificate property is set to 'false'. You need either to explicitly disable SSL by setting useSSL=false, or set useSSL=true and provide truststore for server certificate verification.\n",
            "2022-05-05 16:47:48,538 INFO db.DBInputFormat: Using read commited transaction isolation\n",
            "2022-05-05 16:47:48,877 INFO mapreduce.JobSubmitter: number of splits:1\n",
            "2022-05-05 16:47:49,124 INFO mapreduce.JobSubmitter: Submitting tokens for job: job_local404359020_0001\n",
            "2022-05-05 16:47:49,124 INFO mapreduce.JobSubmitter: Executing with tokens: []\n",
            "2022-05-05 16:47:49,599 INFO mapred.LocalDistributedCacheManager: Creating symlink: /tmp/hadoop-root/mapred/local/job_local404359020_0001_6658938a-33b2-41cb-bd00-3233c05ce43c/libjars <- /content/libjars/*\n",
            "2022-05-05 16:47:49,613 WARN fs.FileUtil: Command 'ln -s /tmp/hadoop-root/mapred/local/job_local404359020_0001_6658938a-33b2-41cb-bd00-3233c05ce43c/libjars /content/libjars/*' failed 1 with: ln: failed to create symbolic link '/content/libjars/*': No such file or directory\n",
            "\n",
            "2022-05-05 16:47:49,613 WARN mapred.LocalDistributedCacheManager: Failed to create symlink: /tmp/hadoop-root/mapred/local/job_local404359020_0001_6658938a-33b2-41cb-bd00-3233c05ce43c/libjars <- /content/libjars/*\n",
            "2022-05-05 16:47:49,613 INFO mapred.LocalDistributedCacheManager: Localized file:/tmp/hadoop/mapred/staging/root404359020/.staging/job_local404359020_0001/libjars as file:/tmp/hadoop-root/mapred/local/job_local404359020_0001_6658938a-33b2-41cb-bd00-3233c05ce43c/libjars\n",
            "2022-05-05 16:47:49,756 INFO mapreduce.Job: The url to track the job: http://localhost:8080/\n",
            "2022-05-05 16:47:49,757 INFO mapreduce.Job: Running job: job_local404359020_0001\n",
            "2022-05-05 16:47:49,767 INFO mapred.LocalJobRunner: OutputCommitter set in config null\n",
            "2022-05-05 16:47:49,778 INFO output.FileOutputCommitter: File Output Committer Algorithm version is 2\n",
            "2022-05-05 16:47:49,778 INFO output.FileOutputCommitter: FileOutputCommitter skip cleanup _temporary folders under output directory:false, ignore cleanup failures: false\n",
            "2022-05-05 16:47:49,779 INFO mapred.LocalJobRunner: OutputCommitter is org.apache.hadoop.mapreduce.lib.output.FileOutputCommitter\n",
            "2022-05-05 16:47:49,885 INFO mapred.LocalJobRunner: Waiting for map tasks\n",
            "2022-05-05 16:47:49,886 INFO mapred.LocalJobRunner: Starting task: attempt_local404359020_0001_m_000000_0\n",
            "2022-05-05 16:47:49,937 INFO output.FileOutputCommitter: File Output Committer Algorithm version is 2\n",
            "2022-05-05 16:47:49,937 INFO output.FileOutputCommitter: FileOutputCommitter skip cleanup _temporary folders under output directory:false, ignore cleanup failures: false\n",
            "2022-05-05 16:47:49,985 INFO mapred.Task:  Using ResourceCalculatorProcessTree : [ ]\n",
            "2022-05-05 16:47:50,765 INFO mapreduce.Job: Job job_local404359020_0001 running in uber mode : false\n",
            "2022-05-05 16:47:50,767 INFO mapreduce.Job:  map 0% reduce 0%\n",
            "Thu May 05 16:47:55 UTC 2022 WARN: Establishing SSL connection without server's identity verification is not recommended. According to MySQL 5.5.45+, 5.6.26+ and 5.7.6+ requirements SSL connection must be established by default if explicit option isn't set. For compliance with existing applications not using SSL the verifyServerCertificate property is set to 'false'. You need either to explicitly disable SSL by setting useSSL=false, or set useSSL=true and provide truststore for server certificate verification.\n",
            "2022-05-05 16:47:57,361 INFO db.DBInputFormat: Using read commited transaction isolation\n",
            "2022-05-05 16:47:57,626 INFO mapred.MapTask: Processing split: 1=1 AND 1=1\n",
            "2022-05-05 16:47:57,703 INFO db.DBRecordReader: Working on split: 1=1 AND 1=1\n",
            "2022-05-05 16:47:57,704 INFO db.DBRecordReader: Executing query: SELECT `cod`, `nombre` FROM `familia` AS `familia` WHERE ( 1=1 ) AND ( 1=1 )\n",
            "2022-05-05 16:47:58,312 INFO mapreduce.AutoProgressMapper: Auto-progress thread is finished. keepGoing=false\n",
            "2022-05-05 16:47:58,318 INFO mapred.LocalJobRunner: \n",
            "2022-05-05 16:47:59,109 INFO mapred.Task: Task:attempt_local404359020_0001_m_000000_0 is done. And is in the process of committing\n",
            "2022-05-05 16:47:59,111 INFO mapred.LocalJobRunner: \n",
            "2022-05-05 16:47:59,112 INFO mapred.Task: Task attempt_local404359020_0001_m_000000_0 is allowed to commit now\n",
            "2022-05-05 16:47:59,114 INFO output.FileOutputCommitter: Saved output of task 'attempt_local404359020_0001_m_000000_0' to file:/content/familia\n",
            "2022-05-05 16:47:59,116 INFO mapred.LocalJobRunner: map\n",
            "2022-05-05 16:47:59,117 INFO mapred.Task: Task 'attempt_local404359020_0001_m_000000_0' done.\n",
            "2022-05-05 16:47:59,133 INFO mapred.Task: Final Counters for attempt_local404359020_0001_m_000000_0: Counters: 15\n",
            "\tFile System Counters\n",
            "\t\tFILE: Number of bytes read=5233\n",
            "\t\tFILE: Number of bytes written=644869\n",
            "\t\tFILE: Number of read operations=0\n",
            "\t\tFILE: Number of large read operations=0\n",
            "\t\tFILE: Number of write operations=0\n",
            "\tMap-Reduce Framework\n",
            "\t\tMap input records=15\n",
            "\t\tMap output records=15\n",
            "\t\tInput split bytes=87\n",
            "\t\tSpilled Records=0\n",
            "\t\tFailed Shuffles=0\n",
            "\t\tMerged Map outputs=0\n",
            "\t\tGC time elapsed (ms)=0\n",
            "\t\tTotal committed heap usage (bytes)=469762048\n",
            "\tFile Input Format Counters \n",
            "\t\tBytes Read=0\n",
            "\tFile Output Format Counters \n",
            "\t\tBytes Written=350\n",
            "2022-05-05 16:47:59,133 INFO mapred.LocalJobRunner: Finishing task: attempt_local404359020_0001_m_000000_0\n",
            "2022-05-05 16:47:59,134 INFO mapred.LocalJobRunner: map task executor complete.\n",
            "2022-05-05 16:47:59,776 INFO mapreduce.Job:  map 100% reduce 0%\n",
            "2022-05-05 16:47:59,777 INFO mapreduce.Job: Job job_local404359020_0001 completed successfully\n",
            "2022-05-05 16:47:59,786 INFO mapreduce.Job: Counters: 15\n",
            "\tFile System Counters\n",
            "\t\tFILE: Number of bytes read=5233\n",
            "\t\tFILE: Number of bytes written=644869\n",
            "\t\tFILE: Number of read operations=0\n",
            "\t\tFILE: Number of large read operations=0\n",
            "\t\tFILE: Number of write operations=0\n",
            "\tMap-Reduce Framework\n",
            "\t\tMap input records=15\n",
            "\t\tMap output records=15\n",
            "\t\tInput split bytes=87\n",
            "\t\tSpilled Records=0\n",
            "\t\tFailed Shuffles=0\n",
            "\t\tMerged Map outputs=0\n",
            "\t\tGC time elapsed (ms)=0\n",
            "\t\tTotal committed heap usage (bytes)=469762048\n",
            "\tFile Input Format Counters \n",
            "\t\tBytes Read=0\n",
            "\tFile Output Format Counters \n",
            "\t\tBytes Written=350\n",
            "2022-05-05 16:47:59,788 INFO mapreduce.ImportJobBase: Transferred 0 bytes in 14.0475 seconds (0 bytes/sec)\n",
            "2022-05-05 16:47:59,789 INFO mapreduce.ImportJobBase: Retrieved 15 records.\n",
            "2022-05-05 16:47:59,790 INFO tool.CodeGenTool: Beginning code generation\n",
            "Thu May 05 16:48:05 UTC 2022 WARN: Establishing SSL connection without server's identity verification is not recommended. According to MySQL 5.5.45+, 5.6.26+ and 5.7.6+ requirements SSL connection must be established by default if explicit option isn't set. For compliance with existing applications not using SSL the verifyServerCertificate property is set to 'false'. You need either to explicitly disable SSL by setting useSSL=false, or set useSSL=true and provide truststore for server certificate verification.\n",
            "2022-05-05 16:48:07,462 INFO manager.SqlManager: Executing SQL statement: SELECT t.* FROM `producto` AS t LIMIT 1\n",
            "2022-05-05 16:48:09,020 INFO orm.CompilationManager: HADOOP_MAPRED_HOME is /usr/local/hadoop-3.3.1\n",
            "Note: /usr/local/hadoop-3.3.1/etc/hadoop/producto.java uses or overrides a deprecated API.\n",
            "Note: Recompile with -Xlint:deprecation for details.\n",
            "2022-05-05 16:48:10,556 INFO orm.CompilationManager: Writing jar file: /usr/local/hadoop-3.3.1/etc/hadoop/producto.jar\n",
            "2022-05-05 16:48:11,613 INFO mapreduce.ImportJobBase: Beginning import of producto\n",
            "2022-05-05 16:48:11,614 INFO Configuration.deprecation: mapred.jar is deprecated. Instead, use mapreduce.job.jar\n",
            "2022-05-05 16:48:12,394 INFO Configuration.deprecation: mapred.map.tasks is deprecated. Instead, use mapreduce.job.maps\n",
            "2022-05-05 16:48:12,400 WARN impl.MetricsSystemImpl: JobTracker metrics system already initialized!\n",
            "Thu May 05 16:48:13 UTC 2022 WARN: Establishing SSL connection without server's identity verification is not recommended. According to MySQL 5.5.45+, 5.6.26+ and 5.7.6+ requirements SSL connection must be established by default if explicit option isn't set. For compliance with existing applications not using SSL the verifyServerCertificate property is set to 'false'. You need either to explicitly disable SSL by setting useSSL=false, or set useSSL=true and provide truststore for server certificate verification.\n",
            "2022-05-05 16:48:14,848 INFO db.DBInputFormat: Using read commited transaction isolation\n",
            "2022-05-05 16:48:15,201 INFO mapreduce.JobSubmitter: number of splits:1\n",
            "2022-05-05 16:48:15,269 INFO mapreduce.JobSubmitter: Submitting tokens for job: job_local284689288_0002\n",
            "2022-05-05 16:48:15,270 INFO mapreduce.JobSubmitter: Executing with tokens: []\n",
            "2022-05-05 16:48:15,436 INFO mapred.LocalDistributedCacheManager: Creating symlink: /tmp/hadoop-root/mapred/local/job_local284689288_0002_09986bef-e679-42e9-ab2a-bc1c206f4965/libjars <- /content/libjars/*\n",
            "2022-05-05 16:48:15,445 WARN fs.FileUtil: Command 'ln -s /tmp/hadoop-root/mapred/local/job_local284689288_0002_09986bef-e679-42e9-ab2a-bc1c206f4965/libjars /content/libjars/*' failed 1 with: ln: failed to create symbolic link '/content/libjars/*': No such file or directory\n",
            "\n",
            "2022-05-05 16:48:15,445 WARN mapred.LocalDistributedCacheManager: Failed to create symlink: /tmp/hadoop-root/mapred/local/job_local284689288_0002_09986bef-e679-42e9-ab2a-bc1c206f4965/libjars <- /content/libjars/*\n",
            "2022-05-05 16:48:15,446 INFO mapred.LocalDistributedCacheManager: Localized file:/tmp/hadoop/mapred/staging/root284689288/.staging/job_local284689288_0002/libjars as file:/tmp/hadoop-root/mapred/local/job_local284689288_0002_09986bef-e679-42e9-ab2a-bc1c206f4965/libjars\n",
            "2022-05-05 16:48:15,558 INFO mapreduce.Job: The url to track the job: http://localhost:8080/\n",
            "2022-05-05 16:48:15,558 INFO mapreduce.Job: Running job: job_local284689288_0002\n",
            "2022-05-05 16:48:15,559 INFO mapred.LocalJobRunner: OutputCommitter set in config null\n",
            "2022-05-05 16:48:15,560 INFO output.FileOutputCommitter: File Output Committer Algorithm version is 2\n",
            "2022-05-05 16:48:15,560 INFO output.FileOutputCommitter: FileOutputCommitter skip cleanup _temporary folders under output directory:false, ignore cleanup failures: false\n",
            "2022-05-05 16:48:15,560 INFO mapred.LocalJobRunner: OutputCommitter is org.apache.hadoop.mapreduce.lib.output.FileOutputCommitter\n",
            "2022-05-05 16:48:15,601 INFO mapred.LocalJobRunner: Waiting for map tasks\n",
            "2022-05-05 16:48:15,602 INFO mapred.LocalJobRunner: Starting task: attempt_local284689288_0002_m_000000_0\n",
            "2022-05-05 16:48:15,604 INFO output.FileOutputCommitter: File Output Committer Algorithm version is 2\n",
            "2022-05-05 16:48:15,604 INFO output.FileOutputCommitter: FileOutputCommitter skip cleanup _temporary folders under output directory:false, ignore cleanup failures: false\n",
            "2022-05-05 16:48:15,604 INFO mapred.Task:  Using ResourceCalculatorProcessTree : [ ]\n",
            "2022-05-05 16:48:16,559 INFO mapreduce.Job: Job job_local284689288_0002 running in uber mode : false\n",
            "2022-05-05 16:48:16,559 INFO mapreduce.Job:  map 0% reduce 0%\n",
            "Thu May 05 16:48:21 UTC 2022 WARN: Establishing SSL connection without server's identity verification is not recommended. According to MySQL 5.5.45+, 5.6.26+ and 5.7.6+ requirements SSL connection must be established by default if explicit option isn't set. For compliance with existing applications not using SSL the verifyServerCertificate property is set to 'false'. You need either to explicitly disable SSL by setting useSSL=false, or set useSSL=true and provide truststore for server certificate verification.\n",
            "2022-05-05 16:48:22,950 INFO db.DBInputFormat: Using read commited transaction isolation\n",
            "2022-05-05 16:48:23,210 INFO mapred.MapTask: Processing split: 1=1 AND 1=1\n",
            "2022-05-05 16:48:23,243 INFO db.DBRecordReader: Working on split: 1=1 AND 1=1\n",
            "2022-05-05 16:48:23,243 INFO db.DBRecordReader: Executing query: SELECT `cod`, `descripcion`, `familia`, `nombre`, `nombre_corto`, `PVP` FROM `producto` AS `producto` WHERE ( 1=1 ) AND ( 1=1 )\n",
            "2022-05-05 16:48:24,028 INFO mapreduce.AutoProgressMapper: Auto-progress thread is finished. keepGoing=false\n",
            "2022-05-05 16:48:24,033 INFO mapred.LocalJobRunner: \n",
            "2022-05-05 16:48:24,809 INFO mapred.Task: Task:attempt_local284689288_0002_m_000000_0 is done. And is in the process of committing\n",
            "2022-05-05 16:48:24,811 INFO mapred.LocalJobRunner: \n",
            "2022-05-05 16:48:24,811 INFO mapred.Task: Task attempt_local284689288_0002_m_000000_0 is allowed to commit now\n",
            "2022-05-05 16:48:24,813 INFO output.FileOutputCommitter: Saved output of task 'attempt_local284689288_0002_m_000000_0' to file:/content/producto\n",
            "2022-05-05 16:48:24,815 INFO mapred.LocalJobRunner: map\n",
            "2022-05-05 16:48:24,815 INFO mapred.Task: Task 'attempt_local284689288_0002_m_000000_0' done.\n",
            "2022-05-05 16:48:24,816 INFO mapred.Task: Final Counters for attempt_local284689288_0002_m_000000_0: Counters: 15\n",
            "\tFile System Counters\n",
            "\t\tFILE: Number of bytes read=13785\n",
            "\t\tFILE: Number of bytes written=1308660\n",
            "\t\tFILE: Number of read operations=0\n",
            "\t\tFILE: Number of large read operations=0\n",
            "\t\tFILE: Number of write operations=0\n",
            "\tMap-Reduce Framework\n",
            "\t\tMap input records=26\n",
            "\t\tMap output records=26\n",
            "\t\tInput split bytes=87\n",
            "\t\tSpilled Records=0\n",
            "\t\tFailed Shuffles=0\n",
            "\t\tMerged Map outputs=0\n",
            "\t\tGC time elapsed (ms)=0\n",
            "\t\tTotal committed heap usage (bytes)=469762048\n",
            "\tFile Input Format Counters \n",
            "\t\tBytes Read=0\n",
            "\tFile Output Format Counters \n",
            "\t\tBytes Written=15815\n",
            "2022-05-05 16:48:24,816 INFO mapred.LocalJobRunner: Finishing task: attempt_local284689288_0002_m_000000_0\n",
            "2022-05-05 16:48:24,816 INFO mapred.LocalJobRunner: map task executor complete.\n",
            "2022-05-05 16:48:25,565 INFO mapreduce.Job:  map 100% reduce 0%\n",
            "2022-05-05 16:48:25,566 INFO mapreduce.Job: Job job_local284689288_0002 completed successfully\n",
            "2022-05-05 16:48:25,568 INFO mapreduce.Job: Counters: 15\n",
            "\tFile System Counters\n",
            "\t\tFILE: Number of bytes read=13785\n",
            "\t\tFILE: Number of bytes written=1308660\n",
            "\t\tFILE: Number of read operations=0\n",
            "\t\tFILE: Number of large read operations=0\n",
            "\t\tFILE: Number of write operations=0\n",
            "\tMap-Reduce Framework\n",
            "\t\tMap input records=26\n",
            "\t\tMap output records=26\n",
            "\t\tInput split bytes=87\n",
            "\t\tSpilled Records=0\n",
            "\t\tFailed Shuffles=0\n",
            "\t\tMerged Map outputs=0\n",
            "\t\tGC time elapsed (ms)=0\n",
            "\t\tTotal committed heap usage (bytes)=469762048\n",
            "\tFile Input Format Counters \n",
            "\t\tBytes Read=0\n",
            "\tFile Output Format Counters \n",
            "\t\tBytes Written=15815\n",
            "2022-05-05 16:48:25,569 INFO mapreduce.ImportJobBase: Transferred 0 bytes in 13.1702 seconds (0 bytes/sec)\n",
            "2022-05-05 16:48:25,570 INFO mapreduce.ImportJobBase: Retrieved 26 records.\n",
            "2022-05-05 16:48:25,570 INFO tool.CodeGenTool: Beginning code generation\n",
            "Thu May 05 16:48:31 UTC 2022 WARN: Establishing SSL connection without server's identity verification is not recommended. According to MySQL 5.5.45+, 5.6.26+ and 5.7.6+ requirements SSL connection must be established by default if explicit option isn't set. For compliance with existing applications not using SSL the verifyServerCertificate property is set to 'false'. You need either to explicitly disable SSL by setting useSSL=false, or set useSSL=true and provide truststore for server certificate verification.\n",
            "2022-05-05 16:48:33,177 INFO manager.SqlManager: Executing SQL statement: SELECT t.* FROM `stock` AS t LIMIT 1\n",
            "2022-05-05 16:48:34,795 INFO orm.CompilationManager: HADOOP_MAPRED_HOME is /usr/local/hadoop-3.3.1\n",
            "Note: /usr/local/hadoop-3.3.1/etc/hadoop/stock.java uses or overrides a deprecated API.\n",
            "Note: Recompile with -Xlint:deprecation for details.\n",
            "2022-05-05 16:48:35,847 INFO orm.CompilationManager: Writing jar file: /usr/local/hadoop-3.3.1/etc/hadoop/stock.jar\n",
            "2022-05-05 16:48:36,456 WARN manager.CatalogQueryManager: The table stock contains a multi-column primary key. Sqoop will default to the column producto only for this job.\n",
            "2022-05-05 16:48:36,978 WARN manager.CatalogQueryManager: The table stock contains a multi-column primary key. Sqoop will default to the column producto only for this job.\n",
            "2022-05-05 16:48:36,978 INFO mapreduce.ImportJobBase: Beginning import of stock\n",
            "2022-05-05 16:48:36,979 INFO Configuration.deprecation: mapred.jar is deprecated. Instead, use mapreduce.job.jar\n",
            "2022-05-05 16:48:37,759 INFO Configuration.deprecation: mapred.map.tasks is deprecated. Instead, use mapreduce.job.maps\n",
            "2022-05-05 16:48:37,764 WARN impl.MetricsSystemImpl: JobTracker metrics system already initialized!\n",
            "Thu May 05 16:48:38 UTC 2022 WARN: Establishing SSL connection without server's identity verification is not recommended. According to MySQL 5.5.45+, 5.6.26+ and 5.7.6+ requirements SSL connection must be established by default if explicit option isn't set. For compliance with existing applications not using SSL the verifyServerCertificate property is set to 'false'. You need either to explicitly disable SSL by setting useSSL=false, or set useSSL=true and provide truststore for server certificate verification.\n",
            "2022-05-05 16:48:40,233 INFO db.DBInputFormat: Using read commited transaction isolation\n",
            "2022-05-05 16:48:40,570 INFO mapreduce.JobSubmitter: number of splits:1\n",
            "2022-05-05 16:48:40,643 INFO mapreduce.JobSubmitter: Submitting tokens for job: job_local151303444_0003\n",
            "2022-05-05 16:48:40,643 INFO mapreduce.JobSubmitter: Executing with tokens: []\n",
            "2022-05-05 16:48:40,799 INFO mapred.LocalDistributedCacheManager: Creating symlink: /tmp/hadoop-root/mapred/local/job_local151303444_0003_1bc9acfd-e294-4001-bb1f-daf2bf34f8a6/libjars <- /content/libjars/*\n",
            "2022-05-05 16:48:40,808 WARN fs.FileUtil: Command 'ln -s /tmp/hadoop-root/mapred/local/job_local151303444_0003_1bc9acfd-e294-4001-bb1f-daf2bf34f8a6/libjars /content/libjars/*' failed 1 with: ln: failed to create symbolic link '/content/libjars/*': No such file or directory\n",
            "\n",
            "2022-05-05 16:48:40,808 WARN mapred.LocalDistributedCacheManager: Failed to create symlink: /tmp/hadoop-root/mapred/local/job_local151303444_0003_1bc9acfd-e294-4001-bb1f-daf2bf34f8a6/libjars <- /content/libjars/*\n",
            "2022-05-05 16:48:40,808 INFO mapred.LocalDistributedCacheManager: Localized file:/tmp/hadoop/mapred/staging/root151303444/.staging/job_local151303444_0003/libjars as file:/tmp/hadoop-root/mapred/local/job_local151303444_0003_1bc9acfd-e294-4001-bb1f-daf2bf34f8a6/libjars\n",
            "2022-05-05 16:48:40,921 INFO mapreduce.Job: The url to track the job: http://localhost:8080/\n",
            "2022-05-05 16:48:40,921 INFO mapreduce.Job: Running job: job_local151303444_0003\n",
            "2022-05-05 16:48:40,921 INFO mapred.LocalJobRunner: OutputCommitter set in config null\n",
            "2022-05-05 16:48:40,922 INFO output.FileOutputCommitter: File Output Committer Algorithm version is 2\n",
            "2022-05-05 16:48:40,922 INFO output.FileOutputCommitter: FileOutputCommitter skip cleanup _temporary folders under output directory:false, ignore cleanup failures: false\n",
            "2022-05-05 16:48:40,923 INFO mapred.LocalJobRunner: OutputCommitter is org.apache.hadoop.mapreduce.lib.output.FileOutputCommitter\n",
            "2022-05-05 16:48:40,968 INFO mapred.LocalJobRunner: Waiting for map tasks\n",
            "2022-05-05 16:48:40,968 INFO mapred.LocalJobRunner: Starting task: attempt_local151303444_0003_m_000000_0\n",
            "2022-05-05 16:48:40,970 INFO output.FileOutputCommitter: File Output Committer Algorithm version is 2\n",
            "2022-05-05 16:48:40,970 INFO output.FileOutputCommitter: FileOutputCommitter skip cleanup _temporary folders under output directory:false, ignore cleanup failures: false\n",
            "2022-05-05 16:48:40,971 INFO mapred.Task:  Using ResourceCalculatorProcessTree : [ ]\n",
            "Thu May 05 16:48:41 UTC 2022 WARN: Establishing SSL connection without server's identity verification is not recommended. According to MySQL 5.5.45+, 5.6.26+ and 5.7.6+ requirements SSL connection must be established by default if explicit option isn't set. For compliance with existing applications not using SSL the verifyServerCertificate property is set to 'false'. You need either to explicitly disable SSL by setting useSSL=false, or set useSSL=true and provide truststore for server certificate verification.\n",
            "2022-05-05 16:48:41,922 INFO mapreduce.Job: Job job_local151303444_0003 running in uber mode : false\n",
            "2022-05-05 16:48:41,922 INFO mapreduce.Job:  map 0% reduce 0%\n",
            "2022-05-05 16:48:43,314 INFO db.DBInputFormat: Using read commited transaction isolation\n",
            "2022-05-05 16:48:43,574 INFO mapred.MapTask: Processing split: 1=1 AND 1=1\n",
            "2022-05-05 16:48:43,610 INFO db.DBRecordReader: Working on split: 1=1 AND 1=1\n",
            "2022-05-05 16:48:43,611 INFO db.DBRecordReader: Executing query: SELECT `producto`, `tienda`, `unidades` FROM `stock` AS `stock` WHERE ( 1=1 ) AND ( 1=1 )\n",
            "2022-05-05 16:48:44,140 INFO mapreduce.AutoProgressMapper: Auto-progress thread is finished. keepGoing=false\n",
            "2022-05-05 16:48:44,141 INFO mapred.LocalJobRunner: \n",
            "2022-05-05 16:48:44,918 INFO mapred.Task: Task:attempt_local151303444_0003_m_000000_0 is done. And is in the process of committing\n",
            "2022-05-05 16:48:44,919 INFO mapred.LocalJobRunner: \n",
            "2022-05-05 16:48:44,919 INFO mapred.Task: Task attempt_local151303444_0003_m_000000_0 is allowed to commit now\n",
            "2022-05-05 16:48:44,920 INFO output.FileOutputCommitter: Saved output of task 'attempt_local151303444_0003_m_000000_0' to file:/content/stock\n",
            "2022-05-05 16:48:44,921 INFO mapred.LocalJobRunner: map\n",
            "2022-05-05 16:48:44,921 INFO mapred.Task: Task 'attempt_local151303444_0003_m_000000_0' done.\n",
            "2022-05-05 16:48:44,921 INFO mapred.Task: Final Counters for attempt_local151303444_0003_m_000000_0: Counters: 15\n",
            "\tFile System Counters\n",
            "\t\tFILE: Number of bytes read=19990\n",
            "\t\tFILE: Number of bytes written=1954813\n",
            "\t\tFILE: Number of read operations=0\n",
            "\t\tFILE: Number of large read operations=0\n",
            "\t\tFILE: Number of write operations=0\n",
            "\tMap-Reduce Framework\n",
            "\t\tMap input records=38\n",
            "\t\tMap output records=38\n",
            "\t\tInput split bytes=87\n",
            "\t\tSpilled Records=0\n",
            "\t\tFailed Shuffles=0\n",
            "\t\tMerged Map outputs=0\n",
            "\t\tGC time elapsed (ms)=0\n",
            "\t\tTotal committed heap usage (bytes)=469762048\n",
            "\tFile Input Format Counters \n",
            "\t\tBytes Read=0\n",
            "\tFile Output Format Counters \n",
            "\t\tBytes Written=620\n",
            "2022-05-05 16:48:44,921 INFO mapred.LocalJobRunner: Finishing task: attempt_local151303444_0003_m_000000_0\n",
            "2022-05-05 16:48:44,922 INFO mapred.LocalJobRunner: map task executor complete.\n",
            "2022-05-05 16:48:44,924 INFO mapreduce.Job:  map 100% reduce 0%\n",
            "2022-05-05 16:48:45,925 INFO mapreduce.Job: Job job_local151303444_0003 completed successfully\n",
            "2022-05-05 16:48:45,927 INFO mapreduce.Job: Counters: 15\n",
            "\tFile System Counters\n",
            "\t\tFILE: Number of bytes read=19990\n",
            "\t\tFILE: Number of bytes written=1954813\n",
            "\t\tFILE: Number of read operations=0\n",
            "\t\tFILE: Number of large read operations=0\n",
            "\t\tFILE: Number of write operations=0\n",
            "\tMap-Reduce Framework\n",
            "\t\tMap input records=38\n",
            "\t\tMap output records=38\n",
            "\t\tInput split bytes=87\n",
            "\t\tSpilled Records=0\n",
            "\t\tFailed Shuffles=0\n",
            "\t\tMerged Map outputs=0\n",
            "\t\tGC time elapsed (ms)=0\n",
            "\t\tTotal committed heap usage (bytes)=469762048\n",
            "\tFile Input Format Counters \n",
            "\t\tBytes Read=0\n",
            "\tFile Output Format Counters \n",
            "\t\tBytes Written=620\n",
            "2022-05-05 16:48:45,928 INFO mapreduce.ImportJobBase: Transferred 0 bytes in 8.1645 seconds (0 bytes/sec)\n",
            "2022-05-05 16:48:45,929 INFO mapreduce.ImportJobBase: Retrieved 38 records.\n",
            "2022-05-05 16:48:45,929 INFO tool.CodeGenTool: Beginning code generation\n",
            "Thu May 05 16:48:51 UTC 2022 WARN: Establishing SSL connection without server's identity verification is not recommended. According to MySQL 5.5.45+, 5.6.26+ and 5.7.6+ requirements SSL connection must be established by default if explicit option isn't set. For compliance with existing applications not using SSL the verifyServerCertificate property is set to 'false'. You need either to explicitly disable SSL by setting useSSL=false, or set useSSL=true and provide truststore for server certificate verification.\n",
            "2022-05-05 16:48:53,544 INFO manager.SqlManager: Executing SQL statement: SELECT t.* FROM `tienda` AS t LIMIT 1\n",
            "2022-05-05 16:48:55,103 INFO orm.CompilationManager: HADOOP_MAPRED_HOME is /usr/local/hadoop-3.3.1\n",
            "Note: /usr/local/hadoop-3.3.1/etc/hadoop/tienda.java uses or overrides a deprecated API.\n",
            "Note: Recompile with -Xlint:deprecation for details.\n",
            "2022-05-05 16:48:56,118 INFO orm.CompilationManager: Writing jar file: /usr/local/hadoop-3.3.1/etc/hadoop/tienda.jar\n",
            "2022-05-05 16:48:57,171 INFO mapreduce.ImportJobBase: Beginning import of tienda\n",
            "2022-05-05 16:48:57,173 INFO Configuration.deprecation: mapred.jar is deprecated. Instead, use mapreduce.job.jar\n",
            "2022-05-05 16:48:57,955 INFO Configuration.deprecation: mapred.map.tasks is deprecated. Instead, use mapreduce.job.maps\n",
            "2022-05-05 16:48:57,960 WARN impl.MetricsSystemImpl: JobTracker metrics system already initialized!\n",
            "Thu May 05 16:48:58 UTC 2022 WARN: Establishing SSL connection without server's identity verification is not recommended. According to MySQL 5.5.45+, 5.6.26+ and 5.7.6+ requirements SSL connection must be established by default if explicit option isn't set. For compliance with existing applications not using SSL the verifyServerCertificate property is set to 'false'. You need either to explicitly disable SSL by setting useSSL=false, or set useSSL=true and provide truststore for server certificate verification.\n",
            "2022-05-05 16:49:00,422 INFO db.DBInputFormat: Using read commited transaction isolation\n",
            "2022-05-05 16:49:00,764 INFO mapreduce.JobSubmitter: number of splits:1\n",
            "2022-05-05 16:49:00,820 INFO mapreduce.JobSubmitter: Submitting tokens for job: job_local299813347_0004\n",
            "2022-05-05 16:49:00,820 INFO mapreduce.JobSubmitter: Executing with tokens: []\n",
            "2022-05-05 16:49:00,966 INFO mapred.LocalDistributedCacheManager: Creating symlink: /tmp/hadoop-root/mapred/local/job_local299813347_0004_bcce4a75-395f-4729-88c2-76414a79f05b/libjars <- /content/libjars/*\n",
            "2022-05-05 16:49:00,976 WARN fs.FileUtil: Command 'ln -s /tmp/hadoop-root/mapred/local/job_local299813347_0004_bcce4a75-395f-4729-88c2-76414a79f05b/libjars /content/libjars/*' failed 1 with: ln: failed to create symbolic link '/content/libjars/*': No such file or directory\n",
            "\n",
            "2022-05-05 16:49:00,976 WARN mapred.LocalDistributedCacheManager: Failed to create symlink: /tmp/hadoop-root/mapred/local/job_local299813347_0004_bcce4a75-395f-4729-88c2-76414a79f05b/libjars <- /content/libjars/*\n",
            "2022-05-05 16:49:00,976 INFO mapred.LocalDistributedCacheManager: Localized file:/tmp/hadoop/mapred/staging/root299813347/.staging/job_local299813347_0004/libjars as file:/tmp/hadoop-root/mapred/local/job_local299813347_0004_bcce4a75-395f-4729-88c2-76414a79f05b/libjars\n",
            "2022-05-05 16:49:01,062 INFO mapreduce.Job: The url to track the job: http://localhost:8080/\n",
            "2022-05-05 16:49:01,063 INFO mapreduce.Job: Running job: job_local299813347_0004\n",
            "2022-05-05 16:49:01,062 INFO mapred.LocalJobRunner: OutputCommitter set in config null\n",
            "2022-05-05 16:49:01,064 INFO output.FileOutputCommitter: File Output Committer Algorithm version is 2\n",
            "2022-05-05 16:49:01,064 INFO output.FileOutputCommitter: FileOutputCommitter skip cleanup _temporary folders under output directory:false, ignore cleanup failures: false\n",
            "2022-05-05 16:49:01,065 INFO mapred.LocalJobRunner: OutputCommitter is org.apache.hadoop.mapreduce.lib.output.FileOutputCommitter\n",
            "2022-05-05 16:49:01,104 INFO mapred.LocalJobRunner: Waiting for map tasks\n",
            "2022-05-05 16:49:01,105 INFO mapred.LocalJobRunner: Starting task: attempt_local299813347_0004_m_000000_0\n",
            "2022-05-05 16:49:01,108 INFO output.FileOutputCommitter: File Output Committer Algorithm version is 2\n",
            "2022-05-05 16:49:01,108 INFO output.FileOutputCommitter: FileOutputCommitter skip cleanup _temporary folders under output directory:false, ignore cleanup failures: false\n",
            "2022-05-05 16:49:01,108 INFO mapred.Task:  Using ResourceCalculatorProcessTree : [ ]\n",
            "Thu May 05 16:49:01 UTC 2022 WARN: Establishing SSL connection without server's identity verification is not recommended. According to MySQL 5.5.45+, 5.6.26+ and 5.7.6+ requirements SSL connection must be established by default if explicit option isn't set. For compliance with existing applications not using SSL the verifyServerCertificate property is set to 'false'. You need either to explicitly disable SSL by setting useSSL=false, or set useSSL=true and provide truststore for server certificate verification.\n",
            "2022-05-05 16:49:02,064 INFO mapreduce.Job: Job job_local299813347_0004 running in uber mode : false\n",
            "2022-05-05 16:49:02,064 INFO mapreduce.Job:  map 0% reduce 0%\n",
            "2022-05-05 16:49:03,451 INFO db.DBInputFormat: Using read commited transaction isolation\n",
            "2022-05-05 16:49:03,711 INFO mapred.MapTask: Processing split: 1=1 AND 1=1\n",
            "2022-05-05 16:49:03,748 INFO db.DBRecordReader: Working on split: 1=1 AND 1=1\n",
            "2022-05-05 16:49:03,748 INFO db.DBRecordReader: Executing query: SELECT `cod`, `nombre`, `tlf` FROM `tienda` AS `tienda` WHERE ( 1=1 ) AND ( 1=1 )\n",
            "2022-05-05 16:49:04,267 INFO mapreduce.AutoProgressMapper: Auto-progress thread is finished. keepGoing=false\n",
            "2022-05-05 16:49:04,268 INFO mapred.LocalJobRunner: \n",
            "2022-05-05 16:49:05,044 INFO mapred.Task: Task:attempt_local299813347_0004_m_000000_0 is done. And is in the process of committing\n",
            "2022-05-05 16:49:05,045 INFO mapred.LocalJobRunner: \n",
            "2022-05-05 16:49:05,045 INFO mapred.Task: Task attempt_local299813347_0004_m_000000_0 is allowed to commit now\n",
            "2022-05-05 16:49:05,047 INFO output.FileOutputCommitter: Saved output of task 'attempt_local299813347_0004_m_000000_0' to file:/content/tienda\n",
            "2022-05-05 16:49:05,048 INFO mapred.LocalJobRunner: map\n",
            "2022-05-05 16:49:05,048 INFO mapred.Task: Task 'attempt_local299813347_0004_m_000000_0' done.\n",
            "2022-05-05 16:49:05,048 INFO mapred.Task: Final Counters for attempt_local299813347_0004_m_000000_0: Counters: 15\n",
            "\tFile System Counters\n",
            "\t\tFILE: Number of bytes read=26190\n",
            "\t\tFILE: Number of bytes written=2600390\n",
            "\t\tFILE: Number of read operations=0\n",
            "\t\tFILE: Number of large read operations=0\n",
            "\t\tFILE: Number of write operations=0\n",
            "\tMap-Reduce Framework\n",
            "\t\tMap input records=3\n",
            "\t\tMap output records=3\n",
            "\t\tInput split bytes=87\n",
            "\t\tSpilled Records=0\n",
            "\t\tFailed Shuffles=0\n",
            "\t\tMerged Map outputs=0\n",
            "\t\tGC time elapsed (ms)=0\n",
            "\t\tTotal committed heap usage (bytes)=469762048\n",
            "\tFile Input Format Counters \n",
            "\t\tBytes Read=0\n",
            "\tFile Output Format Counters \n",
            "\t\tBytes Written=71\n",
            "2022-05-05 16:49:05,048 INFO mapred.LocalJobRunner: Finishing task: attempt_local299813347_0004_m_000000_0\n",
            "2022-05-05 16:49:05,048 INFO mapred.LocalJobRunner: map task executor complete.\n",
            "2022-05-05 16:49:05,067 INFO mapreduce.Job:  map 100% reduce 0%\n",
            "2022-05-05 16:49:06,068 INFO mapreduce.Job: Job job_local299813347_0004 completed successfully\n",
            "2022-05-05 16:49:06,072 INFO mapreduce.Job: Counters: 15\n",
            "\tFile System Counters\n",
            "\t\tFILE: Number of bytes read=26190\n",
            "\t\tFILE: Number of bytes written=2600390\n",
            "\t\tFILE: Number of read operations=0\n",
            "\t\tFILE: Number of large read operations=0\n",
            "\t\tFILE: Number of write operations=0\n",
            "\tMap-Reduce Framework\n",
            "\t\tMap input records=3\n",
            "\t\tMap output records=3\n",
            "\t\tInput split bytes=87\n",
            "\t\tSpilled Records=0\n",
            "\t\tFailed Shuffles=0\n",
            "\t\tMerged Map outputs=0\n",
            "\t\tGC time elapsed (ms)=0\n",
            "\t\tTotal committed heap usage (bytes)=469762048\n",
            "\tFile Input Format Counters \n",
            "\t\tBytes Read=0\n",
            "\tFile Output Format Counters \n",
            "\t\tBytes Written=71\n",
            "2022-05-05 16:49:06,074 INFO mapreduce.ImportJobBase: Transferred 0 bytes in 8.1143 seconds (0 bytes/sec)\n",
            "2022-05-05 16:49:06,075 INFO mapreduce.ImportJobBase: Retrieved 3 records.\n"
          ]
        }
      ]
    },
    {
      "cell_type": "markdown",
      "source": [
        "## Ejecución de Hive"
      ],
      "metadata": {
        "id": "ZJ80luK6HnQc"
      }
    },
    {
      "cell_type": "markdown",
      "source": [
        "### Instanciando Hive"
      ],
      "metadata": {
        "id": "wulfKpWkr4lu"
      }
    },
    {
      "cell_type": "markdown",
      "source": [
        "MATERIAL EXTRA PROPIO<br>\n",
        "La creación de sesión en PySpark que aparece en los Colab del curso, está *deprecated* según el error que da al ejecutar el comando<br> \n",
        "`sqlContext =  SQLContext(sc)` -> `Deprecated in 3.0.0. Use SparkSession.builder.getOrCreate() instead.`, por lo que generamos la sesión de PySpark según la [documentación de la versión 3.2.1](https://spark.apache.org/docs/latest/api/python/).\n",
        "\n",
        "Cargamos la librería de `pyspark` necesaria e instanciamos una sesión de Spark con Hive.<br>\n",
        "Además configuramos un directorio propio como contenedor de los datos en lugar del que se generaría por defecto, este directorio no es necesario que exista previamente."
      ],
      "metadata": {
        "id": "PRJddooqI9HB"
      }
    },
    {
      "cell_type": "code",
      "source": [
        "from pyspark.sql import SparkSession\n",
        "\n",
        "hiveCtx = SparkSession \\\n",
        "    .builder \\\n",
        "    .appName('Practica2_BDA_Sqoop_Hive') \\\n",
        "    .config(\"spark.sql.warehouse.dir\", '/content/warehouse_tiendas') \\\n",
        "    .enableHiveSupport() \\\n",
        "    .getOrCreate()\n",
        "hiveCtx"
      ],
      "metadata": {
        "id": "dbPlhXjOHsY8",
        "colab": {
          "base_uri": "https://localhost:8080/",
          "height": 219
        },
        "outputId": "5631cca9-1996-45ca-f140-1448ffe62208"
      },
      "execution_count": 12,
      "outputs": [
        {
          "output_type": "execute_result",
          "data": {
            "text/plain": [
              "<pyspark.sql.session.SparkSession at 0x7fd7e9d0f790>"
            ],
            "text/html": [
              "\n",
              "            <div>\n",
              "                <p><b>SparkSession - hive</b></p>\n",
              "                \n",
              "        <div>\n",
              "            <p><b>SparkContext</b></p>\n",
              "\n",
              "            <p><a href=\"http://feff0443f7c3:4040\">Spark UI</a></p>\n",
              "\n",
              "            <dl>\n",
              "              <dt>Version</dt>\n",
              "                <dd><code>v3.2.1</code></dd>\n",
              "              <dt>Master</dt>\n",
              "                <dd><code>local[*]</code></dd>\n",
              "              <dt>AppName</dt>\n",
              "                <dd><code>Practica2_BDA_Sqoop_Hive</code></dd>\n",
              "            </dl>\n",
              "        </div>\n",
              "        \n",
              "            </div>\n",
              "        "
            ]
          },
          "metadata": {},
          "execution_count": 12
        }
      ]
    },
    {
      "cell_type": "markdown",
      "source": [
        "### Carga en tablas"
      ],
      "metadata": {
        "id": "hZUB8m9CUZoa"
      }
    },
    {
      "cell_type": "markdown",
      "source": [
        "Creamos en Hive una nueva tabla para *tienda*."
      ],
      "metadata": {
        "id": "A7HeVSWoJnxg"
      }
    },
    {
      "cell_type": "code",
      "source": [
        "hiveCtx.sql(\"CREATE TABLE IF NOT EXISTS tienda \\\n",
        "              (cod INT, nombre STRING, tlf STRING) \\\n",
        "              USING hive \\\n",
        "              OPTIONS(fileFormat 'textfile', fieldDelim ';')\")"
      ],
      "metadata": {
        "colab": {
          "base_uri": "https://localhost:8080/"
        },
        "id": "N_BoC4cQRaGz",
        "outputId": "0ba11ff6-185b-4ab9-ca4d-adb3533f6d4a"
      },
      "execution_count": 13,
      "outputs": [
        {
          "output_type": "execute_result",
          "data": {
            "text/plain": [
              "DataFrame[]"
            ]
          },
          "metadata": {},
          "execution_count": 13
        }
      ]
    },
    {
      "cell_type": "markdown",
      "source": [
        "Cargamos los datos provenientes de Sqoop del directorio *tienda* sobre la nueva tabla *tienda*."
      ],
      "metadata": {
        "id": "Ogcb9yGtEOAQ"
      }
    },
    {
      "cell_type": "code",
      "source": [
        "hiveCtx.sql(\"LOAD DATA INPATH '/content/tienda/part*' INTO TABLE tienda\")"
      ],
      "metadata": {
        "id": "_mqmNMIXTBsK",
        "colab": {
          "base_uri": "https://localhost:8080/"
        },
        "outputId": "6086b327-4c58-4da5-beee-43790997df4c"
      },
      "execution_count": 14,
      "outputs": [
        {
          "output_type": "execute_result",
          "data": {
            "text/plain": [
              "DataFrame[]"
            ]
          },
          "metadata": {},
          "execution_count": 14
        }
      ]
    },
    {
      "cell_type": "markdown",
      "source": [
        "Verificamos que los datos se han cargado en la tabla."
      ],
      "metadata": {
        "id": "fUNz3VL8Eppj"
      }
    },
    {
      "cell_type": "code",
      "source": [
        "hiveCtx.sql(\"select * from tienda\").show()"
      ],
      "metadata": {
        "id": "ebTOWrjHTUfA",
        "colab": {
          "base_uri": "https://localhost:8080/"
        },
        "outputId": "8c28fddf-504c-4041-ee56-0e91c490c2d7"
      },
      "execution_count": 15,
      "outputs": [
        {
          "output_type": "stream",
          "name": "stdout",
          "text": [
            "+---+---------+---------+\n",
            "|cod|   nombre|      tlf|\n",
            "+---+---------+---------+\n",
            "|  1|  CENTRAL|600100100|\n",
            "|  2|SUCURSAL1|600100200|\n",
            "|  3|SUCURSAL2|     null|\n",
            "+---+---------+---------+\n",
            "\n"
          ]
        }
      ]
    },
    {
      "cell_type": "markdown",
      "source": [
        "Realizamos los mismos pasos para las otras 3 tablas: *familia*, *stock* y *producto*."
      ],
      "metadata": {
        "id": "A7mXJnYnzN97"
      }
    },
    {
      "cell_type": "code",
      "source": [
        "hiveCtx.sql(\"CREATE TABLE IF NOT EXISTS familia   \\\n",
        "              (cod STRING, nombre STRING) \\\n",
        "              USING hive \\\n",
        "              OPTIONS(fileFormat 'textfile', fieldDelim ';')\")"
      ],
      "metadata": {
        "id": "jsgD-t0UOqfM",
        "colab": {
          "base_uri": "https://localhost:8080/"
        },
        "outputId": "e1649d17-e4b5-4a22-da79-ce5370dc859e"
      },
      "execution_count": 16,
      "outputs": [
        {
          "output_type": "execute_result",
          "data": {
            "text/plain": [
              "DataFrame[]"
            ]
          },
          "metadata": {},
          "execution_count": 16
        }
      ]
    },
    {
      "cell_type": "code",
      "source": [
        "hiveCtx.sql(\"LOAD DATA INPATH '/content/familia/part*' INTO TABLE familia\")"
      ],
      "metadata": {
        "id": "yD9y0sLfOqfO",
        "colab": {
          "base_uri": "https://localhost:8080/"
        },
        "outputId": "20dd71a4-db4d-4880-86e1-9f5c5b7ba658"
      },
      "execution_count": 17,
      "outputs": [
        {
          "output_type": "execute_result",
          "data": {
            "text/plain": [
              "DataFrame[]"
            ]
          },
          "metadata": {},
          "execution_count": 17
        }
      ]
    },
    {
      "cell_type": "code",
      "source": [
        "hiveCtx.sql(\"select * from familia limit 4\").show()"
      ],
      "metadata": {
        "id": "Ef71lqsRDa7a",
        "colab": {
          "base_uri": "https://localhost:8080/"
        },
        "outputId": "976dc0f0-558c-4319-9d15-08b96e880f11"
      },
      "execution_count": 18,
      "outputs": [
        {
          "output_type": "stream",
          "name": "stdout",
          "text": [
            "+------+-------------------+\n",
            "|   cod|             nombre|\n",
            "+------+-------------------+\n",
            "|CAMARA|  Cámaras digitales|\n",
            "|CONSOL|           Consolas|\n",
            "| EBOOK|Libros electrónicos|\n",
            "|IMPRES|         Impresoras|\n",
            "+------+-------------------+\n",
            "\n"
          ]
        }
      ]
    },
    {
      "cell_type": "code",
      "source": [
        "hiveCtx.sql(\"CREATE TABLE IF NOT EXISTS stock   \\\n",
        "              (producto STRING, tienda INT, unidades INT) \\\n",
        "              USING hive \\\n",
        "              OPTIONS(fileFormat 'textfile', fieldDelim ';')\")"
      ],
      "metadata": {
        "id": "bihtLfU8Orgq",
        "colab": {
          "base_uri": "https://localhost:8080/"
        },
        "outputId": "5c17d0e2-da91-46d3-b809-4dbdad697658"
      },
      "execution_count": 19,
      "outputs": [
        {
          "output_type": "execute_result",
          "data": {
            "text/plain": [
              "DataFrame[]"
            ]
          },
          "metadata": {},
          "execution_count": 19
        }
      ]
    },
    {
      "cell_type": "code",
      "source": [
        "hiveCtx.sql(\"LOAD DATA INPATH '/content/stock/part*' INTO TABLE stock\")"
      ],
      "metadata": {
        "id": "VV1vLEFKOrgs",
        "colab": {
          "base_uri": "https://localhost:8080/"
        },
        "outputId": "48376fcf-f479-417b-af88-d5cd93b632d4"
      },
      "execution_count": 20,
      "outputs": [
        {
          "output_type": "execute_result",
          "data": {
            "text/plain": [
              "DataFrame[]"
            ]
          },
          "metadata": {},
          "execution_count": 20
        }
      ]
    },
    {
      "cell_type": "code",
      "source": [
        "hiveCtx.sql(\"select * from stock limit 4\").show()"
      ],
      "metadata": {
        "id": "GAB2Hu5PDire",
        "colab": {
          "base_uri": "https://localhost:8080/"
        },
        "outputId": "cca8b531-3452-475e-f3bd-9a1381053ab2"
      },
      "execution_count": 21,
      "outputs": [
        {
          "output_type": "stream",
          "name": "stdout",
          "text": [
            "+------------+------+--------+\n",
            "|    producto|tienda|unidades|\n",
            "+------------+------+--------+\n",
            "|       3DSNG|     1|       2|\n",
            "|       3DSNG|     2|       1|\n",
            "|  ACERAX3950|     1|       1|\n",
            "|ARCLPMP32GBN|     2|       1|\n",
            "+------------+------+--------+\n",
            "\n"
          ]
        }
      ]
    },
    {
      "cell_type": "code",
      "source": [
        "hiveCtx.sql(\"CREATE TABLE IF NOT EXISTS producto   \\\n",
        "              (cod STRING, descripcion STRING, familia STRING, \\\n",
        "               nombre STRING, nombre_corto STRING, PVP DECIMAL(10, 2)) \\\n",
        "              USING hive \\\n",
        "              OPTIONS(fileFormat 'textfile', fieldDelim ';')\")"
      ],
      "metadata": {
        "id": "u1RE3SBwOsHm",
        "colab": {
          "base_uri": "https://localhost:8080/"
        },
        "outputId": "a1425921-b823-4072-8445-ea5d1187f0fb"
      },
      "execution_count": 22,
      "outputs": [
        {
          "output_type": "execute_result",
          "data": {
            "text/plain": [
              "DataFrame[]"
            ]
          },
          "metadata": {},
          "execution_count": 22
        }
      ]
    },
    {
      "cell_type": "code",
      "source": [
        "hiveCtx.sql(\"LOAD DATA INPATH '/content/producto/part*' INTO TABLE producto\")"
      ],
      "metadata": {
        "id": "XQ6fZHKNOsHn",
        "colab": {
          "base_uri": "https://localhost:8080/"
        },
        "outputId": "53d55569-3a24-470e-c80a-3dbef17ef44f"
      },
      "execution_count": 23,
      "outputs": [
        {
          "output_type": "execute_result",
          "data": {
            "text/plain": [
              "DataFrame[]"
            ]
          },
          "metadata": {},
          "execution_count": 23
        }
      ]
    },
    {
      "cell_type": "code",
      "source": [
        "hiveCtx.sql(\"select * from producto limit 4\").show()"
      ],
      "metadata": {
        "id": "gBzb1JY1DkzU",
        "colab": {
          "base_uri": "https://localhost:8080/"
        },
        "outputId": "1d4c3019-3ae9-40b9-c148-2801b5e3e3d6"
      },
      "execution_count": 24,
      "outputs": [
        {
          "output_type": "stream",
          "name": "stdout",
          "text": [
            "+------------+--------------------+-------+------+--------------------+------+\n",
            "|         cod|         descripcion|familia|nombre|        nombre_corto|   PVP|\n",
            "+------------+--------------------+-------+------+--------------------+------+\n",
            "|       3DSNG|Consola portátil ...| CONSOL|  null|  Nintendo 3DS negro|270.00|\n",
            "|  ACERAX3950|Características: ...| ORDENA|  null|Acer AX3950 I5-65...|410.00|\n",
            "|ARCLPMP32GBN|Características: ...|    MP3|  null|Archos Clipper MP...| 26.70|\n",
            "|BRAVIA2BX400|Características: ...|     TV|  null|Sony Bravia 32IN ...|356.90|\n",
            "+------------+--------------------+-------+------+--------------------+------+\n",
            "\n"
          ]
        }
      ]
    },
    {
      "cell_type": "markdown",
      "source": [
        "Veamos las tablas que se han creado y cargado en el esquema."
      ],
      "metadata": {
        "id": "6Pip25IcN0lb"
      }
    },
    {
      "cell_type": "code",
      "source": [
        "hiveCtx.sql(\"show tables\").show()"
      ],
      "metadata": {
        "id": "SRmeGw_ARtwH",
        "colab": {
          "base_uri": "https://localhost:8080/"
        },
        "outputId": "350df50c-bcd5-4ccb-f626-821af5079c7a"
      },
      "execution_count": 25,
      "outputs": [
        {
          "output_type": "stream",
          "name": "stdout",
          "text": [
            "+---------+---------+-----------+\n",
            "|namespace|tableName|isTemporary|\n",
            "+---------+---------+-----------+\n",
            "|  default|  familia|      false|\n",
            "|  default| producto|      false|\n",
            "|  default|    stock|      false|\n",
            "|  default|   tienda|      false|\n",
            "+---------+---------+-----------+\n",
            "\n"
          ]
        }
      ]
    },
    {
      "cell_type": "markdown",
      "source": [
        "### Consultas/Transformaciones sobre Hive"
      ],
      "metadata": {
        "id": "CDtVCPCeJxte"
      }
    },
    {
      "cell_type": "markdown",
      "source": [
        "Vamos a actualizar el precio, *PVP*, de la tabla *producto* en un 10%.<br>\n",
        "Para ello realizaremos una consulta de prueba, para los productos que empiezan por la letra 'A', tanto al principio como al final del código, y así verificar la transformación.<br>\n",
        "El contenido de la tabla *producto* lo cargaremos en memoria en un DataFrame de Spark, al cual le haremos la modificación del precio. Este DataFrame modificado lo guardaremos como una vista temporal, *precio_aumentado*.<br>\n",
        "Para sobrescribir la tabla *producto* utilizaremos la vista *precio_aumentado*.<br>\n",
        "Nota: no se realiza un *Update* directo sobre la tabla, porque Spark no soporta esta función."
      ],
      "metadata": {
        "id": "c0BG1bv9J44V"
      }
    },
    {
      "cell_type": "code",
      "source": [
        "hiveCtx.sql(\"select * from producto where cod like 'A%'\").show()\n",
        "\n",
        "precio = hiveCtx.sql(\"select * from producto\")\n",
        "\n",
        "precio.withColumn('PVP', precio['PVP']*1.1 ) \\\n",
        "      .createOrReplaceTempView('precio_aumentado')\n",
        "\n",
        "hiveCtx.sql(\"INSERT OVERWRITE producto TABLE precio_aumentado;\")\n",
        "\n",
        "hiveCtx.sql(\"select * from producto where cod like 'A%'\").show()"
      ],
      "metadata": {
        "id": "X1A-zyTjFqsr",
        "colab": {
          "base_uri": "https://localhost:8080/"
        },
        "outputId": "10ca647a-bb31-456f-8406-830cedb4d14d"
      },
      "execution_count": 26,
      "outputs": [
        {
          "output_type": "stream",
          "name": "stdout",
          "text": [
            "+------------+--------------------+-------+------+--------------------+------+\n",
            "|         cod|         descripcion|familia|nombre|        nombre_corto|   PVP|\n",
            "+------------+--------------------+-------+------+--------------------+------+\n",
            "|  ACERAX3950|Características: ...| ORDENA|  null|Acer AX3950 I5-65...|410.00|\n",
            "|ARCLPMP32GBN|Características: ...|    MP3|  null|Archos Clipper MP...| 26.70|\n",
            "+------------+--------------------+-------+------+--------------------+------+\n",
            "\n",
            "+------------+--------------------+-------+------+--------------------+------+\n",
            "|         cod|         descripcion|familia|nombre|        nombre_corto|   PVP|\n",
            "+------------+--------------------+-------+------+--------------------+------+\n",
            "|  ACERAX3950|Características: ...| ORDENA|  null|Acer AX3950 I5-65...|451.00|\n",
            "|ARCLPMP32GBN|Características: ...|    MP3|  null|Archos Clipper MP...| 29.37|\n",
            "+------------+--------------------+-------+------+--------------------+------+\n",
            "\n"
          ]
        }
      ]
    },
    {
      "cell_type": "markdown",
      "source": [
        "Generaremos ahora una tabla completamente nueva, a partir de datos del resto de tablas, agrupando alguno de ellos.<br>\n",
        "Se quiere obtener todos los productos, con su familia y su precio, y conocer el número de productos que existen en total disponibles.<br>\n",
        "Para conseguirlo uniremos las tablas:\n",
        "+ *producto*, de donde tendrá de salida el código, el nombre y el precio.\n",
        "+ *familia*, cuyo campo en la salida será el nombre de la familia.\n",
        "+ *stock*, donde sumaremos todas las unidades disponibles.\n",
        "\n",
        "Se realiza *join* entre las tablas, siendo la principal *producto* y recogiendo el dato correspondiente de las otras tablas. El resultado se agrupa por todos los campos para obtener la suma de la cantidad de producto de *stock*."
      ],
      "metadata": {
        "id": "Rg3fPnBp7LFg"
      }
    },
    {
      "cell_type": "code",
      "source": [
        "hiveCtx.sql(\"select p.cod codigo_producto \\\n",
        "                  , p.nombre_corto nombre_producto \\\n",
        "                  , f.nombre familia \\\n",
        "                  , p.PVP precio\\\n",
        "                  , sum(s.unidades) cantidad_productos\\\n",
        "            from producto p \\\n",
        "                 join familia f on p.familia=f.cod \\\n",
        "                 join stock s on p.cod=s.producto \\\n",
        "            group by 1,2,3,4 \\\n",
        "            \").write.saveAsTable('tabla_agrupada')\n",
        "\n",
        "hiveCtx.sql(\"select * from tabla_agrupada limit 4\").show()"
      ],
      "metadata": {
        "id": "lvAxG4TVV4ZG",
        "colab": {
          "base_uri": "https://localhost:8080/"
        },
        "outputId": "7ede7407-dfa5-4e26-a74b-227c236e70ea"
      },
      "execution_count": 27,
      "outputs": [
        {
          "output_type": "stream",
          "name": "stdout",
          "text": [
            "+---------------+--------------------+--------------------+------+------------------+\n",
            "|codigo_producto|     nombre_producto|             familia|precio|cantidad_productos|\n",
            "+---------------+--------------------+--------------------+------+------------------+\n",
            "|      LGM237WDP|LG TDT HD 23 M237...|         Televisores|204.60|                 1|\n",
            "|   PBELLI810323|Packard Bell I810...|         Ordenadores|837.98|                 1|\n",
            "|    SMSGCLX3175|     Samsung CLX3175|Equipos multifunción|209.00|                 1|\n",
            "|   EEEPC1005PXD|Asus EEEPC 1005PX...|            Netbooks|269.94|                 3|\n",
            "+---------------+--------------------+--------------------+------+------------------+\n",
            "\n"
          ]
        }
      ]
    },
    {
      "cell_type": "markdown",
      "source": [
        "Vemos las tablas finales del esquema de Hive.<br>\n",
        "Si estuviesemos en un entorno real de Hive, la vista temporal desaparecería al cerrar la sesión, quedándose las 5 tablas persistentes."
      ],
      "metadata": {
        "id": "pm-W6qq-J2YL"
      }
    },
    {
      "cell_type": "code",
      "source": [
        "hiveCtx.sql(\"show tables\").show()"
      ],
      "metadata": {
        "id": "pqYQwDW9Y7yx",
        "colab": {
          "base_uri": "https://localhost:8080/"
        },
        "outputId": "b06c5d09-4cd4-4f13-ae24-0db1fefffa1b"
      },
      "execution_count": 28,
      "outputs": [
        {
          "output_type": "stream",
          "name": "stdout",
          "text": [
            "+---------+----------------+-----------+\n",
            "|namespace|       tableName|isTemporary|\n",
            "+---------+----------------+-----------+\n",
            "|  default|         familia|      false|\n",
            "|  default|        producto|      false|\n",
            "|  default|           stock|      false|\n",
            "|  default|  tabla_agrupada|      false|\n",
            "|  default|          tienda|      false|\n",
            "|         |precio_aumentado|       true|\n",
            "+---------+----------------+-----------+\n",
            "\n"
          ]
        }
      ]
    },
    {
      "cell_type": "markdown",
      "source": [
        "---"
      ],
      "metadata": {
        "id": "qO1td5jhYSos"
      }
    },
    {
      "cell_type": "markdown",
      "source": [
        "## **Punto Extra de la Práctica:**\n",
        "*¿Serías capaz de integrar esta práctica con la desarrollada en \"Sistemas de Big Data\"? Es decir, que cargues los datos \"en bruto\" de la fuente, los transformes para hacerlos procesables y que cargues el dataset, de modo que quede listo para, a partir de él, poder realizar los análisis pertinentes y la minería de datos oportuna. Documéntalo y justifica cómo lo harías.*"
      ],
      "metadata": {
        "id": "96qt_66FUuQC"
      }
    },
    {
      "cell_type": "markdown",
      "source": [
        "Sí, sería capaz.\n",
        "\n",
        "Ya en esta práctica se han realizado cambios en una columna, como cuando se está haciendo tratamiento de datos.\n",
        "```\n",
        "precio.withColumn('PVP', precio['PVP']*1.1 )\n",
        "```\n",
        "También se podría aplicar el tratamiento de nulos en la tabla *productos*, ya que una de sus columnas tiene sus valores como *null*. Por lo que podría ser eliminada la columna.\n",
        "\n",
        "Por tanto, es posible hacerlo, tanto guardando las tablas tal cual venga del origen y procesandolas posteriormente generando dataset/DataFrame nuevos, o haciendo el procesamiento entre Sqoop y la carga a Hive, dejando solo en Hive las tablas listas para el análisis y minería de datos."
      ],
      "metadata": {
        "id": "NckNXCc6YVyw"
      }
    }
  ]
}